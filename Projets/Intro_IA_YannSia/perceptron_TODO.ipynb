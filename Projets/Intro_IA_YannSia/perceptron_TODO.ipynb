{
 "cells": [
  {
   "cell_type": "markdown",
   "metadata": {
    "colab_type": "text",
    "deletable": true,
    "editable": true,
    "id": "6o8XafYzeHU0"
   },
   "source": [
    "Bienvenue à la **séance 2** d'Ens'IA!\n",
    "Aujourd'hui nous passons aux choses sérieuses avec **les réseaux de neurones**.\n",
    "Et un réseau de neurones eh bien, surprise, c'est composé de neurones.\n",
    "Mais alors c'est quoi un neurone?\n",
    "\n",
    "Pour bien comprendre nous allons remonter dans le temps et commencer par aborder l'ancêtre du neurone, **le perceptron**.\n",
    "\n",
    "Lors de la présentation, vous avez du voir (et retenir!) qu'un perceptron possède une ou plusieurs entrées et une sortie unique.\n",
    "Cette sortie est calculée par : $$\n",
    "    s = \\left\\{\n",
    "        \\begin{array}{ll}\n",
    "            1 & \\mbox{si } \\sum_{i=0}^{n} a_{i}*w_{i} + b > 0 \\\\\n",
    "            0 & \\mbox{sinon.}\n",
    "        \\end{array}\n",
    "    \\right.$$\n",
    "\n",
    "A vous de reprogrammer le perceptron!"
   ]
  },
  {
   "cell_type": "code",
   "execution_count": 33,
   "metadata": {
    "colab": {},
    "colab_type": "code",
    "collapsed": false,
    "deletable": true,
    "editable": true,
    "id": "mnLWesVgdlim"
   },
   "outputs": [],
   "source": [
    "class Perceptron:\n",
    "\n",
    "    \"\"\"\n",
    "    Création d'un perceptron\n",
    "    Attributes:\n",
    "        weights (list): les poids\n",
    "        bias (int): le bias\n",
    "\n",
    "    \"\"\"\n",
    "    def __init__(self, weights, bias):\n",
    "        self.weights = weights\n",
    "        self.bias = bias\n",
    "\n",
    "    def forward(self, entree):\n",
    "        \"\"\"Fonction apellée quand on veut obtenir la sortie à partir de l'entrée\n",
    "\n",
    "        Parameters:\n",
    "            entree (list): les valeurs d'entrée\n",
    "\n",
    "        \"\"\"\n",
    "        assert(len(entree)==len(self.weights))\n",
    "        return bool(sum([w*e for w, e in zip(self.weights, entree)]) + self.bias >= 0)\n"
   ]
  },
  {
   "cell_type": "code",
   "execution_count": 34,
   "metadata": {
    "colab": {},
    "colab_type": "code",
    "collapsed": false,
    "deletable": true,
    "editable": true,
    "id": "5FWH7PQ-wjih"
   },
   "outputs": [],
   "source": [
    "perceptron = Perceptron([1,1], -2)\n",
    "assert(perceptron.forward([1,1])==1)\n",
    "assert(perceptron.forward([1,0])==0)\n",
    "assert(perceptron.forward([0,1])==0)\n",
    "assert(perceptron.forward([0,0])==0)"
   ]
  },
  {
   "cell_type": "markdown",
   "metadata": {
    "colab_type": "text",
    "deletable": true,
    "editable": true,
    "id": "8TGMI3_bfZ8A"
   },
   "source": [
    "Testez votre implémentation!"
   ]
  },
  {
   "cell_type": "markdown",
   "metadata": {
    "colab_type": "text",
    "deletable": true,
    "editable": true,
    "id": "MCGgb7KSgV9T"
   },
   "source": [
    "Si vous n'avez aucun message, alors c'est que ça doit marcher!\n",
    "Nous avons ici crée un perceptron avec comme weights 1 et 1. Le bias est de -2.\n",
    "Remarquez-vous quelque chose entre les entrées et la sortie? Peut-être quelque chose que vous avez vu en cours d'architecture des processeurs..."
   ]
  },
  {
   "cell_type": "markdown",
   "metadata": {
    "colab_type": "text",
    "deletable": true,
    "editable": true,
    "id": "BQt2zaWshoms"
   },
   "source": [
    "Votre prochaine mission sera de créer un perceptron qui reproduit une porte **nand**. Il aura donc 2 entrées, un bias mais à vous de trouvez quelles valeurs sont les bonnes..."
   ]
  },
  {
   "cell_type": "code",
   "execution_count": 66,
   "metadata": {
    "colab": {},
    "colab_type": "code",
    "collapsed": false,
    "deletable": true,
    "editable": true,
    "id": "q0Jn0dXyhn3j"
   },
   "outputs": [],
   "source": [
    "perceptron_nand = Perceptron([-1, -1], 1)\n",
    "assert(perceptron_nand.forward([1, 1])==0)\n",
    "assert(perceptron_nand.forward([1, 0])==1)\n",
    "assert(perceptron_nand.forward([0, 1])==1)\n",
    "assert(perceptron_nand.forward([0, 0])==1)\n",
    "#Si vous n'avez aucun message d'erreur en lançant ce code, alors c'est que vous avez trouvé les bon weights et bias!"
   ]
  },
  {
   "cell_type": "markdown",
   "metadata": {
    "colab": {},
    "colab_type": "code",
    "deletable": true,
    "editable": true,
    "id": "CUUbyIFD8EdX"
   },
   "source": [
    "Et si vous essayez de trouver un perceptron qui reproduit une porte XOR...?"
   ]
  },
  {
   "cell_type": "code",
   "execution_count": 0,
   "metadata": {
    "colab": {},
    "colab_type": "code",
    "collapsed": true,
    "deletable": true,
    "editable": true,
    "id": "CQRipqfj5d9z"
   },
   "outputs": [],
   "source": [
    "perceptron_or = Perceptron([1, 1], -1)\n",
    "perceptron_and = Perceptron([1, 1], -1.5)\n",
    "# Combiner OR, AND et NAND"
   ]
  }
 ],
 "metadata": {
  "colab": {
   "collapsed_sections": [],
   "name": "perceptron_TODO.ipynb",
   "provenance": []
  },
  "kernelspec": {
   "display_name": "Python 3",
   "language": "python",
   "name": "python3"
  },
  "language_info": {
   "codemirror_mode": {
    "name": "ipython",
    "version": 3
   },
   "file_extension": ".py",
   "mimetype": "text/x-python",
   "name": "python",
   "nbconvert_exporter": "python",
   "pygments_lexer": "ipython3",
   "version": "3.5.6"
  }
 },
 "nbformat": 4,
 "nbformat_minor": 0
}
