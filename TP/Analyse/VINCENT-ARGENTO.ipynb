{
 "cells": [
  {
   "cell_type": "markdown",
   "metadata": {
    "deletable": true,
    "editable": true
   },
   "source": [
    "# Mini-stage d'analyse pour l'ingénieur\n",
    "**Brigitte Bidegaray-Fesquet, Guillaume James, Adam Larat, Hubert Leterme, Valérie Perrier, Simon Santoso**"
   ]
  },
  {
   "cell_type": "markdown",
   "metadata": {
    "deletable": true,
    "editable": true
   },
   "source": [
    "Le but de ce mini-stage est\n",
    "* de faire connaissance avec certaines librairies python permettant le calcul numérique ; \n",
    "* de faire connaissance avec l'écriture de formules en LaTeX, outil de traitement de texte utilisé par les scientifiques ;\n",
    "* d'apprendre à rédiger un compte-rendu de TP, à partir de quelques exercices ;\n",
    "* de présenter ce TP dans un Notebook permettant de présenter conjointement les calculs et la démarche suivie, et permettant la reproductibilité de vos résultats."
   ]
  },
  {
   "cell_type": "markdown",
   "metadata": {
    "deletable": true,
    "editable": true
   },
   "source": [
    "Tous les documents pour ce TP sont disponibles dans le dossier [TP d'Analyse](https://chamilo.grenoble-inp.fr/main/document/document.php?cidReq=ENSIMAG3MMAI&id_session=0&gidReq=0&gradebook=0&origin=&id=775120) sur Chamilo.\n",
    "\n",
    "La partie 1 de ce sujet vous propose une introduction rapide aux librairies python pour les mathématiques. Prenez le temps de répondre aux questions et de parcourir l'aide. Familiarisez-vous ensuite à l'écriture des équations en LaTeX. Des exemples vous sont donnés en éditant les zones Markdown de ce sujet. Un exemple de document donnant la structration d'un document entièrement en LaTeX est également donné sur Chamilo. Ensuite faites les exercices de la partie 3."
   ]
  },
  {
   "cell_type": "markdown",
   "metadata": {
    "deletable": true,
    "editable": true
   },
   "source": [
    "#### Consignes pour le rendu \n",
    "* Travailler en binôme. Les deux membres du binôme doivent appartenir au même groupe de TP.\n",
    "* Modifier ce Notebook en rédigeant les réponses dans les cellules indiquées par \n",
    "<font color='red'>votre réponse ici</font> ou <font color='red'>votre commentaire ici</font> \n",
    "et les bouts de code dans les cellules prédéfinies.\n",
    "* Renommer ce Notebook &lt;NomBinome1-NomBinome2&gt;.ipynb et le déposer sur Teide.\n",
    "* L'utilisation d'un Notebook permet la reproductibilité des résultats. \n",
    "Il doit s'exécuter parfaitement et contenir l'analyse des résultats obtenus \n",
    "et des commentaires éventuels permettant la compréhension des choix algorithmiques \n",
    "effectués ou des difficultés rencontrées. \n",
    "Le compte-rendu doit néanmoins rester relativement concis.\n",
    "* Relisez-vous, soignez la présentation des figures et des formules mathématiques."
   ]
  },
  {
   "cell_type": "markdown",
   "metadata": {
    "deletable": true,
    "editable": true
   },
   "source": [
    "<h3 align=center>Date limite de rendu : 26 novembre 2019 à 23h59</h3>"
   ]
  },
  {
   "cell_type": "markdown",
   "metadata": {
    "deletable": true,
    "editable": true
   },
   "source": [
    "Bon courage à tous, et n'hésitez pas à faire appel aux encadrants aussi souvent que nécessaire !"
   ]
  },
  {
   "cell_type": "markdown",
   "metadata": {
    "deletable": true,
    "editable": true
   },
   "source": [
    "## 1. Prise en main de quelques librairies python et du notebook"
   ]
  },
  {
   "cell_type": "markdown",
   "metadata": {
    "deletable": true,
    "editable": true
   },
   "source": [
    "### 1.1. Introduction\n",
    "Commencez par découvrir l'aide dans l'onglet `Help`. Vous y trouverez notamment de l'aide sur\n",
    "* le fonctionnement d'un notebook,\n",
    "* le langage markdown,\n",
    "* quelques librairies python.\n",
    "\n",
    "En double-cliquant dans les cellules de texte, vous verrez comment elles ont été rédigées. Vous verrez qu'elles combinent du markdown pur (comme dans cette cellule), de l'html (par exemple dans la cellule qui vous donne la date de rendu du TP) ou du LaTeX (cf. la partie 2)."
   ]
  },
  {
   "cell_type": "markdown",
   "metadata": {
    "deletable": true,
    "editable": true
   },
   "source": [
    "Vous pouvez également accéder à la documentation de python en tapant `help()`.\n",
    "Laissez-vous guider. Essayez les recherches suivantes.\n",
    "* `print`\n",
    "* `symbols`\n",
    "\n",
    "N'oubliez pas de faire `quit` à la fin..."
   ]
  },
  {
   "cell_type": "code",
   "execution_count": 51,
   "metadata": {
    "collapsed": true,
    "deletable": true,
    "editable": true
   },
   "outputs": [],
   "source": [
    "# help()"
   ]
  },
  {
   "cell_type": "markdown",
   "metadata": {
    "deletable": true,
    "editable": true
   },
   "source": [
    "Vous pouvez aussi directement demander l'aide d'une fonction particulière."
   ]
  },
  {
   "cell_type": "code",
   "execution_count": 52,
   "metadata": {
    "collapsed": false,
    "deletable": true,
    "editable": true
   },
   "outputs": [
    {
     "name": "stdout",
     "output_type": "stream",
     "text": [
      "Help on built-in function print in module builtins:\n",
      "\n",
      "print(...)\n",
      "    print(value, ..., sep=' ', end='\\n', file=sys.stdout, flush=False)\n",
      "    \n",
      "    Prints the values to a stream, or to sys.stdout by default.\n",
      "    Optional keyword arguments:\n",
      "    file:  a file-like object (stream); defaults to the current sys.stdout.\n",
      "    sep:   string inserted between values, default a space.\n",
      "    end:   string appended after the last value, default a newline.\n",
      "    flush: whether to forcibly flush the stream.\n",
      "\n"
     ]
    }
   ],
   "source": [
    "help(print)"
   ]
  },
  {
   "cell_type": "markdown",
   "metadata": {
    "deletable": true,
    "editable": true
   },
   "source": [
    "Pour le présent TP, nous aurons besoin d'un certain nombre de librairies pour les mathématiques.\n",
    "* la commande `%matplotlib inline` permet d'effectuer les graphismes en ligne dans le notebook,\n",
    "* `matplotlib.pyplot` contient les fonctions pour tracer les courbes,\n",
    "* `numpy` contient les fonctions pour le travail sur les tableaux et les matrices,\n",
    "* `scipy.linalg` contient les fonctions d'algèbre linéaire,\n",
    "* `math` contient les fonctions mathématiques usuelles."
   ]
  },
  {
   "cell_type": "code",
   "execution_count": 2,
   "metadata": {
    "collapsed": true,
    "deletable": true,
    "editable": true
   },
   "outputs": [],
   "source": [
    "%matplotlib inline\n",
    "import matplotlib.pyplot as plt\n",
    "import numpy as np\n",
    "import scipy.linalg as linalg\n",
    "from math import pi, cos, sin, sqrt, e, factorial"
   ]
  },
  {
   "cell_type": "markdown",
   "metadata": {
    "deletable": true,
    "editable": true
   },
   "source": [
    "#### Question 1 \n",
    "Donner la description de la commande `scipy.linalg.eigvals`.\n",
    "Trouver une commande qui permet de définir la matrice identité."
   ]
  },
  {
   "cell_type": "markdown",
   "metadata": {
    "deletable": true,
    "editable": true
   },
   "source": [
    "<font color='red'>votre réponse ici</font>"
   ]
  },
  {
   "cell_type": "code",
   "execution_count": 54,
   "metadata": {
    "collapsed": false,
    "deletable": true,
    "editable": true
   },
   "outputs": [
    {
     "name": "stdout",
     "output_type": "stream",
     "text": [
      "Help on function eigvals in module scipy.linalg.decomp:\n",
      "\n",
      "eigvals(a, b=None, overwrite_a=False, check_finite=True, homogeneous_eigvals=False)\n",
      "    Compute eigenvalues from an ordinary or generalized eigenvalue problem.\n",
      "    \n",
      "    Find eigenvalues of a general matrix::\n",
      "    \n",
      "        a   vr[:,i] = w[i]        b   vr[:,i]\n",
      "    \n",
      "    Parameters\n",
      "    ----------\n",
      "    a : (M, M) array_like\n",
      "        A complex or real matrix whose eigenvalues and eigenvectors\n",
      "        will be computed.\n",
      "    b : (M, M) array_like, optional\n",
      "        Right-hand side matrix in a generalized eigenvalue problem.\n",
      "        If omitted, identity matrix is assumed.\n",
      "    overwrite_a : bool, optional\n",
      "        Whether to overwrite data in a (may improve performance)\n",
      "    check_finite : bool, optional\n",
      "        Whether to check that the input matrices contain only finite numbers.\n",
      "        Disabling may give a performance gain, but may result in problems\n",
      "        (crashes, non-termination) if the inputs do contain infinities\n",
      "        or NaNs.\n",
      "    homogeneous_eigvals : bool, optional\n",
      "        If True, return the eigenvalues in homogeneous coordinates.\n",
      "        In this case ``w`` is a (2, M) array so that::\n",
      "    \n",
      "            w[1,i] a vr[:,i] = w[0,i] b vr[:,i]\n",
      "    \n",
      "        Default is False.\n",
      "    \n",
      "    Returns\n",
      "    -------\n",
      "    w : (M,) or (2, M) double or complex ndarray\n",
      "        The eigenvalues, each repeated according to its multiplicity\n",
      "        but not in any specific order. The shape is (M,) unless\n",
      "        ``homogeneous_eigvals=True``.\n",
      "    \n",
      "    Raises\n",
      "    ------\n",
      "    LinAlgError\n",
      "        If eigenvalue computation does not converge\n",
      "    \n",
      "    See Also\n",
      "    --------\n",
      "    eig : eigenvalues and right eigenvectors of general arrays.\n",
      "    eigvalsh : eigenvalues of symmetric or Hermitian arrays\n",
      "    eigvals_banded : eigenvalues for symmetric/Hermitian band matrices\n",
      "    eigvalsh_tridiagonal : eigenvalues of symmetric/Hermitian tridiagonal\n",
      "        matrices\n",
      "    \n",
      "    Examples\n",
      "    --------\n",
      "    >>> from scipy import linalg\n",
      "    >>> a = np.array([[0., -1.], [1., 0.]])\n",
      "    >>> linalg.eigvals(a)\n",
      "    array([0.+1.j, 0.-1.j])\n",
      "    \n",
      "    >>> b = np.array([[0., 1.], [1., 1.]])\n",
      "    >>> linalg.eigvals(a, b)\n",
      "    array([ 1.+0.j, -1.+0.j])\n",
      "    \n",
      "    >>> a = np.array([[3., 0., 0.], [0., 8., 0.], [0., 0., 7.]])\n",
      "    >>> linalg.eigvals(a, homogeneous_eigvals=True)\n",
      "    array([[3.+0.j, 8.+0.j, 7.+0.j],\n",
      "           [1.+0.j, 1.+0.j, 1.+0.j]])\n",
      "\n"
     ]
    },
    {
     "data": {
      "text/plain": [
       "array([[1., 0., 0.],\n",
       "       [0., 1., 0.],\n",
       "       [0., 0., 1.]])"
      ]
     },
     "execution_count": 54,
     "metadata": {},
     "output_type": "execute_result"
    }
   ],
   "source": [
    "help(linalg.eigvals)\n",
    "np.identity(3) # matrice identité de taille 3x3"
   ]
  },
  {
   "cell_type": "markdown",
   "metadata": {
    "deletable": true,
    "editable": true
   },
   "source": [
    "### 1.2. Vecteurs et matrices\n",
    "La façon la plus simple de définir une matrice $n \\times m$ en python est d'entrer au clavier la liste de ses éléments, par exemple\n",
    "\n",
    "`A = np.array([[a11, a12, a13], [a21, a22, a23]])`\n",
    "\n",
    "**Opérations élémentaires** à tester sur des exemples !\n",
    "\n",
    "* `A[k, :]` $k$-ième ligne de la matrice $A$       \n",
    "* `A + B`   somme\n",
    "* `np.dot(A, B)` produit\n",
    "* `A * B` produit terme à terme\n",
    "* `np.linalg.det(A)` déterminant de $A$\n",
    "* `np.transpose(A)` transposée de $A$\n",
    "* `np.linalg.inv(A)` inverse de $A$"
   ]
  },
  {
   "cell_type": "markdown",
   "metadata": {
    "deletable": true,
    "editable": true
   },
   "source": [
    "#### Question 2\n",
    "Définir la matrice :\n",
    "\\begin{equation}\n",
    "    A = \\begin{pmatrix}\n",
    "      1 & 0 & 3 & 1 \\\\\n",
    "      1 & 2 & 0 & 1 \\\\\n",
    "      0 & 1 & 3 & 0\n",
    "    \\end{pmatrix}.\n",
    "\\end{equation}\n",
    "1. Quelle est la commande donnant les dimensions de la matrice $A$ ?\n",
    "2. Extraire la première ligne, la dernière colonne et l'élément à la deuxième ligne, troisième colonne de $A$.\n",
    "3. Extraire la diagonale, les parties triangulaires supérieures et inférieures de $A$."
   ]
  },
  {
   "cell_type": "code",
   "execution_count": 55,
   "metadata": {
    "collapsed": false,
    "deletable": true,
    "editable": true
   },
   "outputs": [
    {
     "name": "stdout",
     "output_type": "stream",
     "text": [
      "[[1 0 3 1]\n",
      " [1 2 0 1]\n",
      " [0 1 3 0]] dimensions de la matrice (3, 4)\n",
      "première ligne [1 0 3 1]\n",
      "dernière colonne [1 1 0]\n",
      "élément à la deuxième ligne, troisième colonne 0\n",
      "diagonale [1 2 3]\n",
      "triangulaires supérieures et inférieures [[1 0 3 1]\n",
      " [0 2 0 1]\n",
      " [0 0 3 0]] [[1 0 0 0]\n",
      " [1 2 0 0]\n",
      " [0 1 3 0]]\n"
     ]
    }
   ],
   "source": [
    "A = np.array([[1, 0, 3, 1], [1, 2, 0, 1], [0, 1, 3, 0]])\n",
    "print(A, \"dimensions de la matrice\", A.shape)\n",
    "print(\"première ligne\", A[0, :])\n",
    "print(\"dernière colonne\", A[:, A.shape[1] - 1])\n",
    "print(\"élément à la deuxième ligne, troisième colonne\", A[1, 2])\n",
    "print(\"diagonale\", A.diagonal())\n",
    "print(\"triangulaires supérieures et inférieures\", np.triu(A), np.tril(A))"
   ]
  },
  {
   "cell_type": "markdown",
   "metadata": {
    "deletable": true,
    "editable": true
   },
   "source": [
    "#### Question 3 (Matrices particulières)\n",
    "1. En utilisant les fonctions `np.ones` et `np.diag`, définir la matrice identité $10\\times 10$.\n",
    "2. Définir la matrice tridiagonale d'ordre $10$ suivante en utilisant ces commandes :\n",
    "\\begin{equation}\n",
    "      C = \\begin{pmatrix}\n",
    "          2 & -1& & \\mathbf{0}\\\\\n",
    "          1 & 2 & \\ddots & \\\\\n",
    "          & \\ddots & \\ddots &-1\\\\\n",
    "          \\mathbf{0}& & 1 &2 \\\\\n",
    "        \\end{pmatrix}\n",
    "\\end{equation}"
   ]
  },
  {
   "cell_type": "code",
   "execution_count": 56,
   "metadata": {
    "collapsed": false,
    "deletable": true,
    "editable": true
   },
   "outputs": [
    {
     "name": "stdout",
     "output_type": "stream",
     "text": [
      "[[1. 0. 0. 0. 0. 0. 0. 0. 0. 0.]\n",
      " [0. 1. 0. 0. 0. 0. 0. 0. 0. 0.]\n",
      " [0. 0. 1. 0. 0. 0. 0. 0. 0. 0.]\n",
      " [0. 0. 0. 1. 0. 0. 0. 0. 0. 0.]\n",
      " [0. 0. 0. 0. 1. 0. 0. 0. 0. 0.]\n",
      " [0. 0. 0. 0. 0. 1. 0. 0. 0. 0.]\n",
      " [0. 0. 0. 0. 0. 0. 1. 0. 0. 0.]\n",
      " [0. 0. 0. 0. 0. 0. 0. 1. 0. 0.]\n",
      " [0. 0. 0. 0. 0. 0. 0. 0. 1. 0.]\n",
      " [0. 0. 0. 0. 0. 0. 0. 0. 0. 1.]]\n",
      "[[ 2. -1.  0.  0.  0.  0.  0.  0.  0.  0.]\n",
      " [ 1.  2. -1.  0.  0.  0.  0.  0.  0.  0.]\n",
      " [ 0.  1.  2. -1.  0.  0.  0.  0.  0.  0.]\n",
      " [ 0.  0.  1.  2. -1.  0.  0.  0.  0.  0.]\n",
      " [ 0.  0.  0.  1.  2. -1.  0.  0.  0.  0.]\n",
      " [ 0.  0.  0.  0.  1.  2. -1.  0.  0.  0.]\n",
      " [ 0.  0.  0.  0.  0.  1.  2. -1.  0.  0.]\n",
      " [ 0.  0.  0.  0.  0.  0.  1.  2. -1.  0.]\n",
      " [ 0.  0.  0.  0.  0.  0.  0.  1.  2. -1.]\n",
      " [ 0.  0.  0.  0.  0.  0.  0.  0.  1.  2.]]\n",
      "[[ 2. -1.  0.  0.  0.  0.  0.  0.  0.  0.]\n",
      " [ 1.  2. -1.  0.  0.  0.  0.  0.  0.  0.]\n",
      " [ 0.  1.  2. -1.  0.  0.  0.  0.  0.  0.]\n",
      " [ 0.  0.  1.  2. -1.  0.  0.  0.  0.  0.]\n",
      " [ 0.  0.  0.  1.  2. -1.  0.  0.  0.  0.]\n",
      " [ 0.  0.  0.  0.  1.  2. -1.  0.  0.  0.]\n",
      " [ 0.  0.  0.  0.  0.  1.  2. -1.  0.  0.]\n",
      " [ 0.  0.  0.  0.  0.  0.  1.  2. -1.  0.]\n",
      " [ 0.  0.  0.  0.  0.  0.  0.  1.  2. -1.]\n",
      " [ 0.  0.  0.  0.  0.  0.  0.  0.  1.  2.]]\n"
     ]
    }
   ],
   "source": [
    "N = 10\n",
    "print(np.diag(np.ones(N)))\n",
    "print(np.diag(np.ones(N-1), k=-1) + np.diag(np.ones(N-1), k=1)*-1 + np.diag(np.ones(N))*2)\n",
    "# il y a plus simple...\n",
    "print(np.eye(N, N, k=-1) + np.eye(N)*2 + np.eye(N, N, k=1)*-1)"
   ]
  },
  {
   "cell_type": "markdown",
   "metadata": {
    "deletable": true,
    "editable": true
   },
   "source": [
    "### 1.3. Fonctions\n",
    "#### 1.3.1. Fonctions échantillonnées (= discrétisées)\n",
    "Une fonction peut être définie par rapport à une discrétisation de la variable $x$, ainsi :\n",
    "\n",
    "`x = np.linspace(0, 1, 11)`\n",
    "\n",
    "correspond à une discrétisation par pas de $0.1=1/(11-1)$, de l'intervalle $[0,1]$, soit 11 valeurs. On définit des fonctions sur cette grille discrète, par exemple :\n",
    "\n",
    "`y = [sin(2 * pi * xx) + cos(pi * xx) for xx in x]` somme de deux sinusoïdes,\n",
    "\n",
    "`z = [xx**2 for xx in x]` parabole."
   ]
  },
  {
   "cell_type": "markdown",
   "metadata": {
    "deletable": true,
    "editable": true
   },
   "source": [
    "#### 1.3.2. Tracé de courbes\n",
    "Pour tracer une courbe $y=x^2$ sur l'intervalle $[a,b]$ :\n",
    "```\n",
    "n = ...                  # nombre de points de discrétisation\n",
    "x = np.linspace(a, b, n) # x est échantillonné entre a et b avec un pas de dx\n",
    "z = [xx**2 for xx in x]\n",
    "plt.plot(x, z)\n",
    "```\n",
    "\n",
    "##### Pour varier le trait ou la couleur\n",
    "Par exemple, pour tracer en rouge :\n",
    "```\n",
    "plt.plot(x, f(x), 'r-')\n",
    "```\n",
    "\n",
    "Dans la chaîne de caractère (troisième argument), on donne une lettre imposant la couleur (`r` pour *red*, `b'` pour *blue*, `g` pour *green*...) et un symbole pour le trait (`-` pour un trait continu, `--` pour des tirets, `-.` pour des pointillés...). Pour plus de détails, voir la documentation de `matplotlib.lines.Line2D`.\n",
    "\n",
    "##### Pour tracer plusieurs courbes, rajouter un titre, des axes, une légende\n",
    "```\n",
    "x = np.linspace(0,10,101)\n",
    "plt.plot(x, [cos(xx) for xx in x], 'r')\n",
    "plt.plot(x, [sin(xx) for xx in x], 'b')\n",
    "plt.title('Graphe de la fonction sin')   # titre\n",
    "plt.legend(['cos', 'sin'])               # légende\n",
    "plt.xlabel('temps')\n",
    "plt.ylabel('f(t)');                      # noms des axes\n",
    "```\n",
    "\n",
    "##### Pour tracer plusieurs graphes dans une fenêtre\n",
    "La commande `plt.subplot(n, m, p)` placée avant un tracé de courbe, subdivise la fenêtre du graphe en une matrice $n\\times m$ de sous-fenêtres et sélectionne la $p$-ième pour dessiner le graphe courant : l'élément $(i, j)$ de la matrice correspond au graphe numéro $(i-1)n + j$.\n",
    "\n",
    "##### Pour exporter une figure\n",
    "`plt.savefig('<fichier>', format='pdf')`permet de sauver la figure courante au format pdf. D'autres formats sont possibles."
   ]
  },
  {
   "cell_type": "markdown",
   "metadata": {
    "deletable": true,
    "editable": true
   },
   "source": [
    "#### Question 4\n",
    "Tracer les courbes de la fonction sinus sur l'intervalle $[0,2\\pi]$ pour 6 points de discrétisation, puis 21 points de discrétisation (en une autre couleur). \n",
    "Ajouter un titre et une légende."
   ]
  },
  {
   "cell_type": "code",
   "execution_count": 57,
   "metadata": {
    "collapsed": false,
    "deletable": true,
    "editable": true
   },
   "outputs": [
    {
     "data": {
      "text/plain": [
       "Text(0, 0.5, 'sin(x)')"
      ]
     },
     "execution_count": 57,
     "metadata": {},
     "output_type": "execute_result"
    },
    {
     "data": {
      "image/png": "[encoded data removed]",
      "text/plain": [
       "<Figure size 432x288 with 1 Axes>"
      ]
     },
     "metadata": {
      "needs_background": "light"
     },
     "output_type": "display_data"
    }
   ],
   "source": [
    "def plot_sin(n):\n",
    "    \"\"\"Affiche la fonction sinus entre 0 et 2pi spour 6 points\n",
    "\n",
    "    Parameters:\n",
    "        n (int): nombre de points de discrétisation\n",
    "\n",
    "    \"\"\"\n",
    "    x = np.linspace(0, 2*pi, n) \n",
    "    z = [sin(xx) for xx in x]\n",
    "    plt.plot(x, z)\n",
    "\n",
    "plot_sin(6)\n",
    "plot_sin(21)\n",
    "\n",
    "plt.title('Graphe de la fonction sin')\n",
    "plt.legend(['sin', 'sin'])\n",
    "plt.xlabel('x')\n",
    "plt.ylabel('sin(x)')"
   ]
  },
  {
   "cell_type": "markdown",
   "metadata": {
    "deletable": true,
    "editable": true
   },
   "source": [
    "## 2. Prise en main de LaTeX"
   ]
  },
  {
   "cell_type": "markdown",
   "metadata": {
    "deletable": true,
    "editable": true
   },
   "source": [
    "Dans le notebook, LaTeX est utilisé pour écrire les formules mathématiques, mais ce langage dépasse de loin cet usage. Il sert pour écrire des documents complets où tout le contenu et le formatage sont codés dans ce langage."
   ]
  },
  {
   "cell_type": "markdown",
   "metadata": {
    "deletable": true,
    "editable": true
   },
   "source": [
    "### 2.1. Généralités sur les fichiers LaTeX\n",
    "Un fichier LaTeX est repérable par son extension `.tex`. Un exemple de fichier Latex est donné sur Chamilo dans le dossier [TP d'Analyse](https://chamilo.grenoble-inp.fr/main/document/document.php?cidReq=ENSIMAG3MMAI&id_session=0&gidReq=0&gradebook=0&origin=&id=775120). Un tel fichier est un fichier texte qui est destiné à être compilé pour obtenir le fichier final principal qui est typiquement au format PDF.\n",
    "\n",
    "#### Éditer et compiler un fichier LaTeX\n",
    "1. Pour éditer et modifier ce fichier, il suffit d'utiliser votre éditeur de texte préféré, par exemple :\n",
    "```\n",
    "$ emacs exemple-TP.tex &\n",
    "```\n",
    "\n",
    "2. Pour compiler ce fichier, taper la commande :\n",
    "```\n",
    "$ pdflatex exemple-TP.tex\n",
    "```\n",
    "\n",
    "3. Si la compilation s'est exécutée sans erreurs, un fichier `exemple-TP.pdf` a été créé, à visualiser par exemple avec :\n",
    "```\n",
    "$ evince exemple-TP.pdf &\n",
    "```\n",
    "\n",
    "*N.B. : Il est conseillé de garder active la fenêtre avec le pdf (en insérant un & à la fin de la commande). Après chaque modification puis compilation du fichier tex, le fichier pdf est mis à jour et rafraîchi automatiquement.*\n",
    "\n",
    "#### Structure d'un fichier Latex\n",
    "Le langage Latex comprend deux types d'éléments (en plus du texte normal) : des commandes et des environnements.\n",
    "\n",
    "Une **commande** est identifiable par le préfixe `\\`, et peut comprendre des paramètres indiqués entre accolades (`{ }`) et des options indiquées entre crochets (`[ ]`).\n",
    "\n",
    "Un **environnement** se déclare à l'aide de deux commandes `\\begin{<...>}` et `\\end{<...>}`. Le contenu compris entre ces deux balises aura une mise en forme, ou comprendra des commandes spécifiques à l'environnement.\n",
    "\n",
    "La première ligne d'un fichier Latex est toujours la déclaration de sa classe.\n",
    "\n",
    "\n",
    "\n"
   ]
  },
  {
   "cell_type": "markdown",
   "metadata": {
    "deletable": true,
    "editable": true
   },
   "source": [
    "#### Question 5\n",
    "Repérez la classe à laquelle appartient cet énoncé. Changez cette classe pour `book` et observez les changements sur le document."
   ]
  },
  {
   "cell_type": "markdown",
   "metadata": {
    "deletable": true,
    "editable": true
   },
   "source": [
    "REPONSE: Le format d'affichage change, il y a un saut de page après les informations titres, dates etc..."
   ]
  },
  {
   "cell_type": "markdown",
   "metadata": {
    "deletable": true,
    "editable": true
   },
   "source": [
    "Essayez d'inclure une image dans le document .tex. Pour cela on utilisera la commande `\\includegraphics` dans l'environnement `figure`. "
   ]
  },
  {
   "cell_type": "markdown",
   "metadata": {
    "deletable": true,
    "editable": true
   },
   "source": [
    "S'ensuivent, dans un ordre quelconque :\n",
    "* l'import des packages utilisés (encodage du document, langue, environnements spécifiques...),\n",
    "* la définition personnalisée de commandes, d'environnements,\n",
    "* des informations relatives au document : date, auteur, titre.\n",
    "Tous ces éléments donnent des informations importantes pour la compilation du fichier, mais ne vont rien afficher directement sur le document pdf généré.\n",
    "\n",
    "#### Contenu du document\n",
    "C'est l'environnement `document` qui va générer le contenu du document pdf. Dans cet environnement, en plus du texte classique, on peut intégrer (entre autre) des commandes spécifiant :\n",
    "* la structure de document (sections),\n",
    "* l'organisation et la mise en forme du texte,\n",
    "* l'affichage et le référencement de figures (contenant par exemple des images, ou des tableaux),\n",
    "* du contenu spécialisé (par exemple mathématiques, chimie ou encore musique).\n",
    "\n",
    "Certaines commandes permettent aussi de générer automatiquement un titre, une table des matières, ou une page de références bibliographique.\n",
    "\n",
    "#### Mise en page\n",
    "La mise en page du fichier se fait de manière automatique. En particulier les sections que vous aurez indiquées seront automatiquement numérotées, de même que les figures, les équations et théorèmes. Le placement des figures est aussi décidé par Latex, ce qui peut donner parfois des résultats inattendus. Deux solutions pour remédier à une figure (ou un tableau) éloignée du texte qui lui fait référence :\n",
    "* ajouter l'option `[h]` ou `[h!]` à la commande `\\begin{figure}` pour forcer la position de la figure par rapport au texte,\n",
    "* laisser la figure se placer à un endroit différent du document, et ajouter une référence que l'on pourra citer dans le texte. Pour cela, il faut utiliser la commande `\\label` dans l'environnement `figure`, pour associer un mot-clé à votre figure. Dans votre texte, vous pouvez faire référence à cette figure en utilisant la commande `\\ref` suivie du mot-clé que vous lui avez attribué. Ceci fonctionne aussi pour tout ce qui est numéroté dans la structure générale du document : sections, équations, théorèmes...\n",
    "\n",
    "### 2.2. Écrire des mathématiques (et utiliser dans un notebook)\n",
    "\n",
    "Il existe deux principales manières d'inclure du contenu mathématique dans un document Latex : au milieu de texte, en encadrant le contenu mathématique par des balises $, ou alors sur une ligne séparée avec l'environnement `equation` ou `align` pour le multiligne. \n",
    "\n",
    "Vous trouverez les exemples de commandes utiles pour ce TP en éditant les cellules de texte. Pour en savoir plus, vous pouvez aussi consulter le manuel présent sur Chamilo. "
   ]
  },
  {
   "cell_type": "markdown",
   "metadata": {
    "deletable": true,
    "editable": true
   },
   "source": [
    "## 3. Travaux pratiques - compte rendu"
   ]
  },
  {
   "cell_type": "markdown",
   "metadata": {
    "deletable": true,
    "editable": true
   },
   "source": [
    "### 3.1. Sensibilisation à l'arithmétique machine\n",
    "Python, comme la plupart de langages de calcul, utilise la norme IEEE-754 pour le stockage des nombres en mémoire. Sans rentrer dans les détails, un nombre réel est représenté par un nombre flottant\n",
    "\\begin{equation}\n",
    "  x = 0.b_1b_2 \\dots b_m\\ 2^e.\n",
    "\\end{equation}\n",
    "La partie $0.b_1b_2\\dots b_m$ s'appelle la mantisse, $e$ est l'exposant. Comme la mantisse n'a qu'un nombre $m$ fixé de chiffres significatifs, Python ne pourra pas distinguer 2 réels au-delà de cette précision. À titre indicatif, en Python la mantisse est codée sur 52 bits, l'exposant sur 11 bits et le signe sur 1, ce qui fait qu'un réel occupe 64 bits (8 octets) en mémoire.\n",
    "\n",
    "En Python, on ne peut donc pas calculer un nombre avec une précision arbitraire. La constante `eps` est la distance entre le nombre 1 et le flottant machine qui lui est immédiatement supérieur : on l'appelle le zéro machine, il vaut $2^{-52} \\approx 2.22*10^{-16}$. Pour mieux comprendre, essayez les commandes suivantes :"
   ]
  },
  {
   "cell_type": "code",
   "execution_count": 58,
   "metadata": {
    "collapsed": false,
    "deletable": true,
    "editable": true
   },
   "outputs": [
    {
     "name": "stdout",
     "output_type": "stream",
     "text": [
      "1.0000000000000002\n",
      "1.5000000000000002\n"
     ]
    }
   ],
   "source": [
    "print(1 + np.finfo(float).eps)\n",
    "print(1 + 0.5 + np.finfo(float).eps)"
   ]
  },
  {
   "cell_type": "markdown",
   "metadata": {
    "deletable": true,
    "editable": true
   },
   "source": [
    "#### Exercice 1\n",
    "Exécuter les commandes suivantes. Expliquer et commenter les résultats."
   ]
  },
  {
   "cell_type": "code",
   "execution_count": 65,
   "metadata": {
    "collapsed": false,
    "deletable": true,
    "editable": true
   },
   "outputs": [
    {
     "name": "stdout",
     "output_type": "stream",
     "text": [
      "1e+30 0.0 0.0\n",
      "0.0 1e-08 1.0\n",
      "0.0 1.0\n"
     ]
    }
   ],
   "source": [
    "x = 1e30\n",
    "y = 1e-8\n",
    "z = ((y + x) - x) / y\n",
    "w = (y + (x - x)) / y\n",
    "print(y + x, (y + x) - x, ((y + x) - x)/y)\n",
    "print(x - x, y + (x - x), (y + (x - x)) / y)\n",
    "print(z, w)"
   ]
  },
  {
   "cell_type": "markdown",
   "metadata": {
    "deletable": true,
    "editable": true
   },
   "source": [
    "<font color='red'>votre commentaire ici</font>\n",
    "On est sensé trouver z = w = 1.0. Or z = 0.0. \n",
    "En effet, y + x est évalué dans un premier temps et est égal à x (du point de vue du pc) car le nombre de décimales est supérieur au nombre m de chiffres significatifs dans la mantisse. Ainsi dans la suite du calcul on a 0 / y qui donne bien 0.0. \n",
    "Dans le second calcul (celui de w), on n'a pas ce problème. L'ordre des opérations donne bien y / y = 1.0."
   ]
  },
  {
   "cell_type": "markdown",
   "metadata": {
    "deletable": true,
    "editable": true
   },
   "source": [
    "#### Exercice 2\n",
    "On considère la fonction $f$ définie de la manière suivante : pour $x \\in [0,4]$ on calcule\n",
    "* $y = \\sqrt{\\sqrt{\\sqrt {\\dots{\\sqrt{ x}}}}}$ (128 fois)\n",
    "* puis $f(x) = ((\\dots((y^2)^2)^2\\dots)^2)^2$ (128 fois)\n",
    "\n",
    "Tracer la courbe de $f$ en fonction de $x$. Que constatez-vous ? Expliquer le résultat."
   ]
  },
  {
   "cell_type": "code",
   "execution_count": 78,
   "metadata": {
    "collapsed": false,
    "deletable": true,
    "editable": true
   },
   "outputs": [
    {
     "name": "stdout",
     "output_type": "stream",
     "text": [
      "[-1.00000000e+00 -1.11022302e-16 -1.11022302e-16 -1.11022302e-16\n",
      " -1.11022302e-16 -1.11022302e-16 -1.11022302e-16 -1.11022302e-16\n",
      " -1.11022302e-16 -1.11022302e-16 -1.11022302e-16 -1.11022302e-16\n",
      " -1.11022302e-16 -1.11022302e-16 -1.11022302e-16 -1.11022302e-16\n",
      " -1.11022302e-16 -1.11022302e-16 -1.11022302e-16 -1.11022302e-16\n",
      " -1.11022302e-16 -1.11022302e-16 -1.11022302e-16 -1.11022302e-16\n",
      " -1.11022302e-16  0.00000000e+00  0.00000000e+00  0.00000000e+00\n",
      "  0.00000000e+00  0.00000000e+00  0.00000000e+00  0.00000000e+00\n",
      "  0.00000000e+00  0.00000000e+00  0.00000000e+00  0.00000000e+00\n",
      "  0.00000000e+00  0.00000000e+00  0.00000000e+00  0.00000000e+00\n",
      "  0.00000000e+00  0.00000000e+00  0.00000000e+00  0.00000000e+00\n",
      "  0.00000000e+00  0.00000000e+00  0.00000000e+00  0.00000000e+00\n",
      "  0.00000000e+00  0.00000000e+00  0.00000000e+00  0.00000000e+00\n",
      "  0.00000000e+00  0.00000000e+00  0.00000000e+00  0.00000000e+00\n",
      "  0.00000000e+00  0.00000000e+00  0.00000000e+00  0.00000000e+00\n",
      "  0.00000000e+00  0.00000000e+00  0.00000000e+00  0.00000000e+00\n",
      "  0.00000000e+00  0.00000000e+00  0.00000000e+00  0.00000000e+00\n",
      "  0.00000000e+00  0.00000000e+00  0.00000000e+00  0.00000000e+00\n",
      "  0.00000000e+00  0.00000000e+00  0.00000000e+00  0.00000000e+00\n",
      "  0.00000000e+00  0.00000000e+00  0.00000000e+00  0.00000000e+00\n",
      "  0.00000000e+00  0.00000000e+00  0.00000000e+00  0.00000000e+00\n",
      "  0.00000000e+00  0.00000000e+00  0.00000000e+00  0.00000000e+00\n",
      "  0.00000000e+00  0.00000000e+00  0.00000000e+00  0.00000000e+00\n",
      "  0.00000000e+00  0.00000000e+00  0.00000000e+00  0.00000000e+00\n",
      "  0.00000000e+00  0.00000000e+00  0.00000000e+00  0.00000000e+00]\n"
     ]
    },
    {
     "data": {
      "text/plain": [
       "[<matplotlib.lines.Line2D at 0x7f20cb2fb550>]"
      ]
     },
     "execution_count": 78,
     "metadata": {},
     "output_type": "execute_result"
    },
    {
     "data": {
      "image/png": "[encoded data removed]",
      "text/plain": [
       "<Figure size 432x288 with 1 Axes>"
      ]
     },
     "metadata": {
      "needs_background": "light"
     },
     "output_type": "display_data"
    }
   ],
   "source": [
    "def apply_n_times(x, n, function):\n",
    "    for _ in range(n):\n",
    "        x = function(x)\n",
    "    return x\n",
    "\n",
    "pow_2 = lambda x: x*x\n",
    "\n",
    "x = np.linspace(0, 4, 100)\n",
    "y1 = np.array([apply_n_times(xx, 128, sqrt) for xx in x])\n",
    "print(y1-1)\n",
    "y2 = [apply_n_times(yy, 128, pow_2) for yy in y1]\n",
    "plt.plot(x, y1) \n",
    "plt.plot(x, y2)\n",
    "plt.plot(x, [sqrt(xx) for xx in x])\n"
   ]
  },
  {
   "cell_type": "markdown",
   "metadata": {
    "deletable": true,
    "editable": true
   },
   "source": [
    "<font color='red'>votre commentaire ici</font> \n",
    "Les valeurs de y1 - 1 ne sont pas les mêmes que l'on soit entre 0 et 1 ou entre 1 et 4.\n",
    "Celles entre 0 et 1 sont égalés à - (zéro machine) tandis que les autres sont égales à 0.\n",
    "On regarde le développement limité en 1 de $sqrt(x)$.\n",
    "\\begin{equation}\n",
    "sqrt(x) = 1 + (x - 1) + (x - 1)^2/2\n",
    "\\end{equation}\n",
    "Selon x, on se retrouve plus ou moins proche du premier ou du second terme du développement limité.\n",
    "On applique ensuite pow_2. Pour les valeurs de x inférieures à 1, les valeurs de y1 (inférieures à 1) montées à la puissance 2^128 tendent vers 0."
   ]
  },
  {
   "cell_type": "markdown",
   "metadata": {
    "deletable": true,
    "editable": true
   },
   "source": [
    "#### Exercice 3 \n",
    "On cherche à calculer la valeur de l'intégrale\n",
    "\\begin{equation}\n",
    "    I_{20} = \\int_0^1 x^{20} e^x dx.\n",
    "\\end{equation}\n",
    "1. Donner une formule de récurrence pour calculer cette intégrale, puis évaluer $I_{20}$ à partir de $I_0$."
   ]
  },
  {
   "cell_type": "markdown",
   "metadata": {
    "deletable": true,
    "editable": true
   },
   "source": [
    "<font color='red'>votre réponse ici</font>\n",
    "\\begin{equation}\n",
    "    I_{n} = \\int_0^1 x^{n} e^x dx. = e - nI_{n-1}\n",
    "\\end{equation}"
   ]
  },
  {
   "cell_type": "code",
   "execution_count": 151,
   "metadata": {
    "collapsed": false,
    "deletable": true,
    "editable": true
   },
   "outputs": [
    {
     "name": "stdout",
     "output_type": "stream",
     "text": [
      "1 1.718281828459045\n",
      "2 1.0\n",
      "3 0.7182818284590451\n",
      "4 0.5634363430819098\n",
      "5 0.4645364561314058\n",
      "6 0.395599547802016\n",
      "7 0.34468454164694906\n",
      "8 0.30549003693040166\n",
      "9 0.27436153301583177\n",
      "10 0.24902803131655915\n",
      "11 0.22800151529345358\n",
      "12 0.21026516023105568\n",
      "13 0.19509990568637692\n",
      "14 0.18198305453614516\n",
      "15 0.17051906495301283\n",
      "16 0.1604958541638526\n",
      "17 0.15034816183740363\n",
      "18 0.16236307722318344\n",
      "19 -0.2042535615582568\n",
      "20 6.599099498065924\n",
      "1.718281828459045 -129.26370813285942\n"
     ]
    }
   ],
   "source": [
    "def rec_In(n):\n",
    "    if n == 0: return e - 1\n",
    "    res = e - 1\n",
    "    for i in range(1, n + 1):\n",
    "        print(i, res)\n",
    "        res = e - i*res\n",
    "    return res\n",
    "\n",
    "print(rec_In(0), rec_In(20))"
   ]
  },
  {
   "cell_type": "markdown",
   "metadata": {
    "deletable": true,
    "editable": true
   },
   "source": [
    "<font color='red'>votre commentaire ici</font>"
   ]
  },
  {
   "cell_type": "markdown",
   "metadata": {
    "deletable": true,
    "editable": true
   },
   "source": [
    "2. Évaluer $I_{20}$ en utilisant le développement en série de $e^x$.\n"
   ]
  },
  {
   "cell_type": "markdown",
   "metadata": {
    "deletable": true,
    "editable": true
   },
   "source": [
    "<font color='red'>votre réponse ici</font>\n",
    "On remplace exp(x) par son DSE.\n",
    "On réalise une interversion série intégrale.\n",
    "\\begin{equation}\n",
    "    I_{n} = \\int_0^1 x^{n} e^x dx. = (-1)^{n + 1}n!(1 - e\\sum_{k=0}^{n} \\frac{(-1)^k}{k!}) = \\sum_{k=0}^{\\infty} \\frac{1}{k!(n + k + 1)}\n",
    "\\end{equation}"
   ]
  },
  {
   "cell_type": "code",
   "execution_count": 154,
   "metadata": {
    "collapsed": false,
    "deletable": true,
    "editable": true
   },
   "outputs": [
    {
     "name": "stdout",
     "output_type": "stream",
     "text": [
      "0 0.12380383076256994\n"
     ]
    }
   ],
   "source": [
    "def sum_In(limit=1000):\n",
    "    s = 0\n",
    "    for k in range(limit):\n",
    "        s += 1/(factorial(k)*(limit + k + 1))\n",
    "    return s\n",
    "\n",
    "print(sum_In(0), sum_In(20))"
   ]
  },
  {
   "cell_type": "markdown",
   "metadata": {
    "deletable": true,
    "editable": true
   },
   "source": [
    "<font color='red'>votre commentaire ici</font>"
   ]
  },
  {
   "cell_type": "markdown",
   "metadata": {
    "deletable": true,
    "editable": true
   },
   "source": [
    "3. Conclusions ?"
   ]
  },
  {
   "cell_type": "markdown",
   "metadata": {
    "deletable": true,
    "editable": true
   },
   "source": [
    "<font color='red'>votre réponse ici</font>\n",
    "sum_In donne le bon résultat. On ajoute des termes de plus en plus petit. Donc on converge vers le bon résultat.\n",
    "rec_In converge dans l'autre sens. Au bon d'un moment, l'erreur dépasse 1e-17 et alors il y a divergence (18ème itération).\n",
    "(1 - e*(exp(-1) + epsilon)) ~ (1 - e/((n+1)!))"
   ]
  },
  {
   "cell_type": "markdown",
   "metadata": {
    "deletable": true,
    "editable": true
   },
   "source": [
    "#### Exercice 4\n",
    "Ici, on va calculer directement une approximation de $I_{20}$ en utilisant la méthode des rectangles. Écrire une fonction `rectangle(n)` qui calcule $I_{20}$ en utilisant $n$ points. Vérifier que, pour $n$ suffisamment grand, on retrouve bien le même résultat qu'à la question 2 de l'exercice précédent."
   ]
  },
  {
   "cell_type": "markdown",
   "metadata": {
    "deletable": true,
    "editable": true
   },
   "source": [
    "<font color='red'>votre réponse ici</font>"
   ]
  },
  {
   "cell_type": "code",
   "execution_count": 13,
   "metadata": {
    "collapsed": false,
    "deletable": true,
    "editable": true
   },
   "outputs": [
    {
     "name": "stdout",
     "output_type": "stream",
     "text": [
      "integrale = 0.123125110787\n"
     ]
    },
    {
     "data": {
      "image/png": "[encoded data removed]",
      "text/plain": [
       "<matplotlib.figure.Figure at 0x7f2ce1a6bd68>"
      ]
     },
     "metadata": {},
     "output_type": "display_data"
    }
   ],
   "source": [
    "def rectangle(n):\n",
    "    xmin = 0\n",
    "    xmax = 1\n",
    "    nbx = n\n",
    "    nbi = nbx - 1  # nombre d'intervalles\n",
    "\n",
    "    x = np.linspace(xmin, xmax, nbx)\n",
    "    y = np.power(x, 20)*np.exp(x)\n",
    "    plt.plot(x, y, \"bo-\")\n",
    "\n",
    "    integrale = 0\n",
    "    for i in range(nbi):\n",
    "        integrale = integrale + y[i] * (x[i + 1] - x[i])\n",
    "        # dessin du rectangle\n",
    "        x_rect = [x[i], x[i], x[i + 1], x[i + 1], x[i]]  # abscisses des sommets\n",
    "        y_rect = [0, y[i], y[i], 0, 0]  # ordonnees des sommets\n",
    "        plt.plot(x_rect, y_rect, \"r\")\n",
    "    print(\"integrale =\", integrale)\n",
    "\n",
    "rectangle(2000)"
   ]
  },
  {
   "cell_type": "markdown",
   "metadata": {
    "deletable": true,
    "editable": true
   },
   "source": [
    "<font color='red'>votre commentaire ici</font>\n",
    "On obtient bien le résultat recherché. La méthode de Simpson est plus efficace."
   ]
  },
  {
   "cell_type": "markdown",
   "metadata": {
    "deletable": true,
    "editable": true
   },
   "source": [
    "### 3.2. Étude du phénomène de Gibbs\n",
    "Le phénomène de Gibbs est un phénomène oscillatoire qui s'observe graphiquement quand on approche une fonction par sa série de Fourier. L'exercice qui suit vous fait d'abord calculer la série de Fourier d'une fonction \"simple\", puis tracer cette série tronquée aux premiers termes.\n",
    "\n",
    "**Rappel sur les séries de Fourier**\n",
    "Soit $f:\\mathbb{R}\\mapsto\\mathbb{C}$ une fonction $T$ périodique, la série de Fourier de $f$ s'écrit comme une combinaison linéaire de fonctions sinusoïdales :\n",
    "\\begin{equation}\n",
    "\tf(t) = \\sum_{n=-\\infty}^\\infty c_n(f) \\exp\\left(2i\\pi\\frac{n}{T}t\\right),\n",
    "\\end{equation}\n",
    "où les coefficients $c_n(f)$ de $f$ sont appelés *coefficients de Fourier*\n",
    "et sont définis comme suit :\n",
    "\\begin{equation}\n",
    "\tc_n(f) = \\frac1T \\int_{-T/2}^{T/2} f(t) \\exp\\left(-2i\\pi\\frac{n}{T}t\\right) dt.\n",
    "\\end{equation}\n",
    "Dans le cas de fonctions $f:\\mathbb{R}\\mapsto\\mathbb{R}$, quelques simplifications\n",
    "peuvent être faites, la série de Fourier peut s'écrire comme suit :\n",
    "\\begin{equation}\n",
    "\tf(t) = a_0(f) + \\sum_{n=1}^\\infty \\left[a_n(f) \\cos\\left(2\\pi\\frac{n}{T}t\\right)\\right] \n",
    "    + b_n(f) \\sin\\left(2\\pi\\frac{n}{T}t\\right),\n",
    "\\end{equation}\n",
    "où les coefficients $a_n(f)$ et $b_n(f)$, sont définis comme suit :\n",
    "\\begin{equation}\n",
    "\t\\left\\{\n",
    "    \\begin{aligned}\n",
    "\t\ta_0(f) & = \\frac1T \\int_{-T/2}^{T/2} f(t) dt, \\\\\n",
    "\t\ta_n(f) & = \\frac2T \\int_{-T/2}^{T/2} f(t) \\cos\\left(2\\pi\\frac{n}{T}t\\right) dt, \\\\\n",
    "\t\tb_n(f) & = \\frac2T \\int_{-T/2}^{T/2} f(t) \\sin\\left(2\\pi\\frac{n}{T}t\\right) dt.\n",
    "\t\\end{aligned}\n",
    "    \\right.\n",
    "\\end{equation}\n"
   ]
  },
  {
   "cell_type": "markdown",
   "metadata": {
    "deletable": true,
    "editable": true
   },
   "source": [
    "#### Exercice 5 *(théorique)*\n",
    "Soit la fonction 1-périodique $f$, définie sur $[-\\frac12, \\frac12[$ par\n",
    "\\begin{equation}\n",
    "    f(x) = \\begin{cases} \n",
    "    -1 & \\text{pour } -\\frac12 \\leq x \\leq 0, \\\\\n",
    "    1 & \\text{pour } 0 < x < \\frac12.\n",
    "    \\end{cases}\n",
    "\\end{equation}\n",
    "Calculer la série de Fourier de $f$ et expliquer en quels points $x$ la formule ci-dessous est valide :\n",
    "\\begin{equation}\n",
    "    f(x) = \\frac4\\pi \\sum_{n=0}^{+\\infty} \\frac{\\sin(2(2n+1)\\pi x)}{2n+1}.\n",
    "\\end{equation}"
   ]
  },
  {
   "cell_type": "markdown",
   "metadata": {
    "deletable": true,
    "editable": true
   },
   "source": [
    "<font color='red'>votre réponse ici</font>\n",
    "$a_{0} = a_{n} = 0 $ car $f$ est impaire et les coéfficients $b_n$ de rang pair sont nuls.\n",
    "\\begin{align} \n",
    "    b_{2n + 1}(f) & = 2 \\int_{-1/2}^{1/2} f(x) \\sin\\left(2\\pi (2n + 1)x\\right) dx \\\\\n",
    "    &= \\frac{4}{\\pi (2n + 1)}\\\\\n",
    "\\end{align}\n",
    "donc\n",
    "\\begin{align}\n",
    "    f(x) = \\frac4\\pi \\sum_{n=0}^{+\\infty} \\frac{\\sin(2(2n+1)\\pi x)}{2n+1}.\n",
    "\\end{align}\n",
    "si $\\sin(2(2n+1)\\pi x) = 1$ alors la série diverge ie. $x = \\frac{(4 m + 1)}{4 (2 n + 1)}$, $m$ élément de $Z$"
   ]
  },
  {
   "cell_type": "markdown",
   "metadata": {
    "deletable": true,
    "editable": true
   },
   "source": [
    "#### Exercice 6 *(pratique)*\n",
    "Écrire un bout de code traçant la série de Fourier tronquée de la fonction $f$."
   ]
  },
  {
   "cell_type": "code",
   "execution_count": 24,
   "metadata": {
    "collapsed": false,
    "deletable": true,
    "editable": true
   },
   "outputs": [
    {
     "data": {
      "image/png": "[encoded data removed]",
      "text/plain": [
       "<matplotlib.figure.Figure at 0x7f2ce1af7d30>"
      ]
     },
     "metadata": {},
     "output_type": "display_data"
    }
   ],
   "source": [
    "def fourier(N, x):\n",
    "    s = 0\n",
    "    for n in range(N):\n",
    "        s += np.sin(2 * (2*n + 1) * pi * x)/(2*n + 1)\n",
    "    return 4/pi*s\n",
    "\n",
    "def traceserie(N):\n",
    "    x = np.linspace(-0.5, 0.5, 10000)\n",
    "    y = fourier(N, x)\n",
    "    plt.plot(x, y)\n",
    "    plt.show()\n",
    "    \n",
    "traceserie(10)"
   ]
  },
  {
   "cell_type": "markdown",
   "metadata": {
    "deletable": true,
    "editable": true
   },
   "source": [
    "Quel phénomène observez-vous sur le graphe? \n",
    "Comment varie-t-il avec `Ntermes` ? \n",
    "Que pouvez-vous en conclure sur la convergence de la série de Fourier?"
   ]
  },
  {
   "cell_type": "markdown",
   "metadata": {
    "deletable": true,
    "editable": true
   },
   "source": [
    "<font color='red'>votre réponse ici</font>\n",
    "Le phénomène de Gibbs est un effet de bord observé au voisinage d'une discontinuité de la fonction. \n",
    "\n",
    "La somme partielle de la série de Fourier, Sn(f), est une fonction continue, il est donc normal qu'il ne puisse approcher uniformément la fonction créneau qui, elle, ne l'est pas. Sur une des zones de « plateau », en dehors d'un voisinage de la discontinuité, la série de Fourier converge uniformément vers la fonction (elle en est indiscernable pour N très grand).\n",
    "\n",
    "Au niveau du point de discontinuité, Sn(f) subit une forte oscillation, une sorte de « sursaut ». L'amplitude de ce sursaut semble tendre vers une constante. "
   ]
  },
  {
   "cell_type": "markdown",
   "metadata": {
    "deletable": true,
    "editable": true
   },
   "source": [
    "### 3.3. Théorème de Gerschgörin\n",
    "**(petit) Rappel sur les valeurs propres et les vecteurs propres**\n",
    "Soit $A$ une matrice, les valeurs propres $\\lambda$ et les vecteurs propres $v$ de $A$ respectent l'égalité :\n",
    "\\begin{equation}\n",
    "(A-\\lambda I)v = 0,\n",
    "\\end{equation}\n",
    "où $I$ est la matrice identité."
   ]
  },
  {
   "cell_type": "markdown",
   "metadata": {
    "deletable": true,
    "editable": true
   },
   "source": [
    "#### Exercice 7 \n",
    "Dans cet exercice nous nous intéressons au problème suivant. \n",
    "\n",
    "Soit $A$ une matrice carré d'ordre $N$. Pour chaque ligne $k$ de $A$, on définit le disque de Gerschgörin $D_k$ du plan complexe par : \n",
    "\\begin{equation}\n",
    "    D_k = \\left\\{z\\in\\mathbb{C}:|z-a_{kk}|\\leq\\Lambda_k = \\sum_{j=1,j\\neq k}^N |a_{kj}|\\right\\}.\n",
    "\\end{equation}\n",
    "***Théorème de Gershgörin***\n",
    "Les valeurs propres de $A$ appartiennent à l'union des $N$ disques $D_k$ :\n",
    "\\begin{equation}\\lambda \\in \\bigcup\\limits_{k=1}^N D_k.\\end{equation}"
   ]
  },
  {
   "cell_type": "markdown",
   "metadata": {
    "deletable": true,
    "editable": true
   },
   "source": [
    "1. Démontrer ce théorème."
   ]
  },
  {
   "cell_type": "markdown",
   "metadata": {
    "deletable": true,
    "editable": true
   },
   "source": [
    "<font color='red'>votre réponse ici</font>"
   ]
  },
  {
   "cell_type": "markdown",
   "metadata": {
    "deletable": true,
    "editable": true
   },
   "source": [
    "2. Écrire une fonction permettant de visualiser les disques de Gerschgörin dans le plan complexe."
   ]
  },
  {
   "cell_type": "code",
   "execution_count": 60,
   "metadata": {
    "collapsed": false,
    "deletable": true,
    "editable": true
   },
   "outputs": [
    {
     "name": "stderr",
     "output_type": "stream",
     "text": [
      "/usr/lib64/python3.5/site-packages/matplotlib/transforms.py:2068: ComplexWarning: Casting complex values to real discards the imaginary part\n",
      "  [[sx, 0.0, 0.0], [0.0, sy, 0.0], [0.0, 0.0, 1.0]], float)\n"
     ]
    },
    {
     "data": {
      "image/png": "[encoded data removed]",
      "text/plain": [
       "<matplotlib.figure.Figure at 0x7f2ce1b5ecf8>"
      ]
     },
     "metadata": {},
     "output_type": "display_data"
    }
   ],
   "source": [
    "def disques(A):\n",
    "    \n",
    "    width, height = A.shape\n",
    "    fig, ax = plt.subplots() # note we must use plt.subplots, not plt.subplot\n",
    "    # (or if you have an existing figure)\n",
    "    # fig = plt.gcf()\n",
    "    # ax = fig.gca()\n",
    "    # change default range so that new circles will work\n",
    "    ax.set_xlim((-10, 10))\n",
    "    ax.set_ylim((-10, 10))\n",
    "    \n",
    "    D, V = np.linalg.eig(A)\n",
    "    for el_complex in D:\n",
    "        ax.plot(np.real(el_complex), np.imag(el_complex), \"o\")\n",
    "    \n",
    "    def get_circles():\n",
    "        from matplotlib.pyplot import cm\n",
    "        colors = iter(cm.rainbow(np.linspace(0, 1, height)))\n",
    "        for k in range(height):\n",
    "            color = next(colors)\n",
    "            #print(A[k, :], A[k, k])\n",
    "            lambda_k = sum(A[k, :]) - A[k, k]\n",
    "            #print(lambda_k)\n",
    "            circle = plt.Circle((np.real(A[k, k]), np.imag(A[k, k])), lambda_k, color=color, fill=False)\n",
    "            yield circle\n",
    "        \n",
    "    for circle in get_circles():\n",
    "        #print(circle)\n",
    "        ax.add_artist(circle)\n",
    "        \n",
    "    return fig, ax"
   ]
  },
  {
   "cell_type": "markdown",
   "metadata": {
    "deletable": true,
    "editable": true
   },
   "source": [
    "3. Vérifier que les valeurs propres de la matrice $A$ suivante sont toutes dans l'union des disques de Gerschgörin de $A$ :\n",
    "\\begin{equation}\n",
    "    A = \\begin{pmatrix}\n",
    "    1+i & i & 2 \\\\ 3 & 2+i & 1 \\\\ 1 & i & 6\n",
    "    \\end{pmatrix}.\n",
    "\\end{equation}"
   ]
  },
  {
   "cell_type": "code",
   "execution_count": 61,
   "metadata": {
    "collapsed": false,
    "deletable": true,
    "editable": true
   },
   "outputs": [
    {
     "name": "stderr",
     "output_type": "stream",
     "text": [
      "/usr/lib64/python3.5/site-packages/matplotlib/transforms.py:2068: ComplexWarning: Casting complex values to real discards the imaginary part\n",
      "  [[sx, 0.0, 0.0], [0.0, sy, 0.0], [0.0, 0.0, 1.0]], float)\n"
     ]
    },
    {
     "data": {
      "image/png": "[encoded data removed]",
      "text/plain": [
       "<matplotlib.figure.Figure at 0x7f2ce0859908>"
      ]
     },
     "metadata": {},
     "output_type": "display_data"
    }
   ],
   "source": [
    "A = np.array([[1+1.j, 1.j, 2], [3, 2 + 1.j, 1], [1, 1.j, 6]])\n",
    "fig, ax = disques(A)"
   ]
  },
  {
   "cell_type": "markdown",
   "metadata": {
    "deletable": true,
    "editable": true
   },
   "source": [
    "<font color='red'>votre commentaire ici</font> C'est vérifié."
   ]
  },
  {
   "cell_type": "markdown",
   "metadata": {
    "deletable": true,
    "editable": true
   },
   "source": [
    "4. On appelle matrice à diagonale strictement dominante, une matrice telle que\n",
    "\\begin{equation}\n",
    "    \\forall k\\ \\sum_{j\\neq k} |a_{kj}| < |a_{kk}|.\n",
    "\\end{equation}\n",
    "Démontrer en utilisant les disques de Gerschgörin que toute matrice à diagonale strictement dominante est inversible."
   ]
  },
  {
   "cell_type": "markdown",
   "metadata": {
    "deletable": true,
    "editable": true
   },
   "source": [
    "<font color='red'>votre réponse ici</font>"
   ]
  }
 ],
 "metadata": {
  "kernelspec": {
   "display_name": "Python 3",
   "language": "python",
   "name": "python3"
  },
  "language_info": {
   "codemirror_mode": {
    "name": "ipython",
    "version": 3
   },
   "file_extension": ".py",
   "mimetype": "text/x-python",
   "name": "python",
   "nbconvert_exporter": "python",
   "pygments_lexer": "ipython3",
   "version": "3.5.6"
  }
 },
 "nbformat": 4,
 "nbformat_minor": 2
}
